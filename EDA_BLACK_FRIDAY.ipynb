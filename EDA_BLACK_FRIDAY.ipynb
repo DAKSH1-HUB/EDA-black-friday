{
  "cells": [
    {
      "cell_type": "code",
      "execution_count": 22,
      "id": "71ab68a9",
      "metadata": {
        "_cell_guid": "b1076dfc-b9ad-4769-8c92-a6c4dae69d19",
        "_uuid": "8f2839f25d086af736a60e9eeb907d3b93b6e0e5",
        "execution": {
          "iopub.execute_input": "2022-11-20T09:53:13.845538Z",
          "iopub.status.busy": "2022-11-20T09:53:13.845132Z",
          "iopub.status.idle": "2022-11-20T09:53:13.861368Z",
          "shell.execute_reply": "2022-11-20T09:53:13.860388Z"
        },
        "papermill": {
          "duration": 0.031149,
          "end_time": "2022-11-20T09:53:13.863757",
          "exception": false,
          "start_time": "2022-11-20T09:53:13.832608",
          "status": "completed"
        },
        "tags": [],
        "id": "71ab68a9"
      },
      "outputs": [],
      "source": []
    },
    {
      "cell_type": "markdown",
      "id": "51ba9d5e",
      "metadata": {
        "papermill": {
          "duration": 0.011367,
          "end_time": "2022-11-20T09:53:13.885674",
          "exception": false,
          "start_time": "2022-11-20T09:53:13.874307",
          "status": "completed"
        },
        "tags": [],
        "id": "51ba9d5e"
      },
      "source": [
        "From the above code we have imported actual dataframe for our study and visualisation"
      ]
    },
    {
      "cell_type": "code",
      "execution_count": 23,
      "id": "7e91bffa",
      "metadata": {
        "execution": {
          "iopub.execute_input": "2022-11-20T09:53:13.908082Z",
          "iopub.status.busy": "2022-11-20T09:53:13.907697Z",
          "iopub.status.idle": "2022-11-20T09:53:14.910596Z",
          "shell.execute_reply": "2022-11-20T09:53:14.909406Z"
        },
        "papermill": {
          "duration": 1.016866,
          "end_time": "2022-11-20T09:53:14.912880",
          "exception": false,
          "start_time": "2022-11-20T09:53:13.896014",
          "status": "completed"
        },
        "tags": [],
        "id": "7e91bffa"
      },
      "outputs": [],
      "source": [
        "import numpy as np\n",
        "import pandas as pd\n",
        "import seaborn as sns\n",
        "import matplotlib.pyplot as plt"
      ]
    },
    {
      "cell_type": "markdown",
      "id": "950a4272",
      "metadata": {
        "papermill": {
          "duration": 0.010065,
          "end_time": "2022-11-20T09:53:14.933679",
          "exception": false,
          "start_time": "2022-11-20T09:53:14.923614",
          "status": "completed"
        },
        "tags": [],
        "id": "950a4272"
      },
      "source": [
        "we have to import the numpy, pandas, seaborn,& matplotlip for data cleaning and visualisation "
      ]
    },
    {
      "cell_type": "code",
      "execution_count": 24,
      "id": "6fb4a39b",
      "metadata": {
        "execution": {
          "iopub.execute_input": "2022-11-20T09:53:14.955670Z",
          "iopub.status.busy": "2022-11-20T09:53:14.955114Z",
          "iopub.status.idle": "2022-11-20T09:53:15.745348Z",
          "shell.execute_reply": "2022-11-20T09:53:15.744327Z"
        },
        "papermill": {
          "duration": 0.803542,
          "end_time": "2022-11-20T09:53:15.747400",
          "exception": false,
          "start_time": "2022-11-20T09:53:14.943858",
          "status": "completed"
        },
        "tags": [],
        "colab": {
          "base_uri": "https://localhost:8080/",
          "height": 340
        },
        "id": "6fb4a39b",
        "outputId": "56578d7f-d679-4c32-c2e4-a9379915ef4a"
      },
      "outputs": [
        {
          "output_type": "execute_result",
          "data": {
            "text/plain": [
              "   User_ID Product_ID Gender   Age  Occupation City_Category  \\\n",
              "0  1000001  P00069042      F  0-17          10             A   \n",
              "1  1000001  P00248942      F  0-17          10             A   \n",
              "2  1000001  P00087842      F  0-17          10             A   \n",
              "3  1000001  P00085442      F  0-17          10             A   \n",
              "4  1000002  P00285442      M   55+          16             C   \n",
              "\n",
              "  Stay_In_Current_City_Years  Marital_Status  Product_Category_1  \\\n",
              "0                          2             0.0                 3.0   \n",
              "1                          2             0.0                 1.0   \n",
              "2                          2             0.0                12.0   \n",
              "3                          2             0.0                12.0   \n",
              "4                         4+             0.0                 8.0   \n",
              "\n",
              "   Product_Category_2  Product_Category_3  Purchase  \n",
              "0                 NaN                 NaN    8370.0  \n",
              "1                 6.0                14.0   15200.0  \n",
              "2                 NaN                 NaN    1422.0  \n",
              "3                14.0                 NaN    1057.0  \n",
              "4                 NaN                 NaN    7969.0  "
            ],
            "text/html": [
              "\n",
              "  <div id=\"df-6a889710-f24e-4aa3-a184-53d4c2065fd5\">\n",
              "    <div class=\"colab-df-container\">\n",
              "      <div>\n",
              "<style scoped>\n",
              "    .dataframe tbody tr th:only-of-type {\n",
              "        vertical-align: middle;\n",
              "    }\n",
              "\n",
              "    .dataframe tbody tr th {\n",
              "        vertical-align: top;\n",
              "    }\n",
              "\n",
              "    .dataframe thead th {\n",
              "        text-align: right;\n",
              "    }\n",
              "</style>\n",
              "<table border=\"1\" class=\"dataframe\">\n",
              "  <thead>\n",
              "    <tr style=\"text-align: right;\">\n",
              "      <th></th>\n",
              "      <th>User_ID</th>\n",
              "      <th>Product_ID</th>\n",
              "      <th>Gender</th>\n",
              "      <th>Age</th>\n",
              "      <th>Occupation</th>\n",
              "      <th>City_Category</th>\n",
              "      <th>Stay_In_Current_City_Years</th>\n",
              "      <th>Marital_Status</th>\n",
              "      <th>Product_Category_1</th>\n",
              "      <th>Product_Category_2</th>\n",
              "      <th>Product_Category_3</th>\n",
              "      <th>Purchase</th>\n",
              "    </tr>\n",
              "  </thead>\n",
              "  <tbody>\n",
              "    <tr>\n",
              "      <th>0</th>\n",
              "      <td>1000001</td>\n",
              "      <td>P00069042</td>\n",
              "      <td>F</td>\n",
              "      <td>0-17</td>\n",
              "      <td>10</td>\n",
              "      <td>A</td>\n",
              "      <td>2</td>\n",
              "      <td>0.0</td>\n",
              "      <td>3.0</td>\n",
              "      <td>NaN</td>\n",
              "      <td>NaN</td>\n",
              "      <td>8370.0</td>\n",
              "    </tr>\n",
              "    <tr>\n",
              "      <th>1</th>\n",
              "      <td>1000001</td>\n",
              "      <td>P00248942</td>\n",
              "      <td>F</td>\n",
              "      <td>0-17</td>\n",
              "      <td>10</td>\n",
              "      <td>A</td>\n",
              "      <td>2</td>\n",
              "      <td>0.0</td>\n",
              "      <td>1.0</td>\n",
              "      <td>6.0</td>\n",
              "      <td>14.0</td>\n",
              "      <td>15200.0</td>\n",
              "    </tr>\n",
              "    <tr>\n",
              "      <th>2</th>\n",
              "      <td>1000001</td>\n",
              "      <td>P00087842</td>\n",
              "      <td>F</td>\n",
              "      <td>0-17</td>\n",
              "      <td>10</td>\n",
              "      <td>A</td>\n",
              "      <td>2</td>\n",
              "      <td>0.0</td>\n",
              "      <td>12.0</td>\n",
              "      <td>NaN</td>\n",
              "      <td>NaN</td>\n",
              "      <td>1422.0</td>\n",
              "    </tr>\n",
              "    <tr>\n",
              "      <th>3</th>\n",
              "      <td>1000001</td>\n",
              "      <td>P00085442</td>\n",
              "      <td>F</td>\n",
              "      <td>0-17</td>\n",
              "      <td>10</td>\n",
              "      <td>A</td>\n",
              "      <td>2</td>\n",
              "      <td>0.0</td>\n",
              "      <td>12.0</td>\n",
              "      <td>14.0</td>\n",
              "      <td>NaN</td>\n",
              "      <td>1057.0</td>\n",
              "    </tr>\n",
              "    <tr>\n",
              "      <th>4</th>\n",
              "      <td>1000002</td>\n",
              "      <td>P00285442</td>\n",
              "      <td>M</td>\n",
              "      <td>55+</td>\n",
              "      <td>16</td>\n",
              "      <td>C</td>\n",
              "      <td>4+</td>\n",
              "      <td>0.0</td>\n",
              "      <td>8.0</td>\n",
              "      <td>NaN</td>\n",
              "      <td>NaN</td>\n",
              "      <td>7969.0</td>\n",
              "    </tr>\n",
              "  </tbody>\n",
              "</table>\n",
              "</div>\n",
              "      <button class=\"colab-df-convert\" onclick=\"convertToInteractive('df-6a889710-f24e-4aa3-a184-53d4c2065fd5')\"\n",
              "              title=\"Convert this dataframe to an interactive table.\"\n",
              "              style=\"display:none;\">\n",
              "        \n",
              "  <svg xmlns=\"http://www.w3.org/2000/svg\" height=\"24px\"viewBox=\"0 0 24 24\"\n",
              "       width=\"24px\">\n",
              "    <path d=\"M0 0h24v24H0V0z\" fill=\"none\"/>\n",
              "    <path d=\"M18.56 5.44l.94 2.06.94-2.06 2.06-.94-2.06-.94-.94-2.06-.94 2.06-2.06.94zm-11 1L8.5 8.5l.94-2.06 2.06-.94-2.06-.94L8.5 2.5l-.94 2.06-2.06.94zm10 10l.94 2.06.94-2.06 2.06-.94-2.06-.94-.94-2.06-.94 2.06-2.06.94z\"/><path d=\"M17.41 7.96l-1.37-1.37c-.4-.4-.92-.59-1.43-.59-.52 0-1.04.2-1.43.59L10.3 9.45l-7.72 7.72c-.78.78-.78 2.05 0 2.83L4 21.41c.39.39.9.59 1.41.59.51 0 1.02-.2 1.41-.59l7.78-7.78 2.81-2.81c.8-.78.8-2.07 0-2.86zM5.41 20L4 18.59l7.72-7.72 1.47 1.35L5.41 20z\"/>\n",
              "  </svg>\n",
              "      </button>\n",
              "      \n",
              "  <style>\n",
              "    .colab-df-container {\n",
              "      display:flex;\n",
              "      flex-wrap:wrap;\n",
              "      gap: 12px;\n",
              "    }\n",
              "\n",
              "    .colab-df-convert {\n",
              "      background-color: #E8F0FE;\n",
              "      border: none;\n",
              "      border-radius: 50%;\n",
              "      cursor: pointer;\n",
              "      display: none;\n",
              "      fill: #1967D2;\n",
              "      height: 32px;\n",
              "      padding: 0 0 0 0;\n",
              "      width: 32px;\n",
              "    }\n",
              "\n",
              "    .colab-df-convert:hover {\n",
              "      background-color: #E2EBFA;\n",
              "      box-shadow: 0px 1px 2px rgba(60, 64, 67, 0.3), 0px 1px 3px 1px rgba(60, 64, 67, 0.15);\n",
              "      fill: #174EA6;\n",
              "    }\n",
              "\n",
              "    [theme=dark] .colab-df-convert {\n",
              "      background-color: #3B4455;\n",
              "      fill: #D2E3FC;\n",
              "    }\n",
              "\n",
              "    [theme=dark] .colab-df-convert:hover {\n",
              "      background-color: #434B5C;\n",
              "      box-shadow: 0px 1px 3px 1px rgba(0, 0, 0, 0.15);\n",
              "      filter: drop-shadow(0px 1px 2px rgba(0, 0, 0, 0.3));\n",
              "      fill: #FFFFFF;\n",
              "    }\n",
              "  </style>\n",
              "\n",
              "      <script>\n",
              "        const buttonEl =\n",
              "          document.querySelector('#df-6a889710-f24e-4aa3-a184-53d4c2065fd5 button.colab-df-convert');\n",
              "        buttonEl.style.display =\n",
              "          google.colab.kernel.accessAllowed ? 'block' : 'none';\n",
              "\n",
              "        async function convertToInteractive(key) {\n",
              "          const element = document.querySelector('#df-6a889710-f24e-4aa3-a184-53d4c2065fd5');\n",
              "          const dataTable =\n",
              "            await google.colab.kernel.invokeFunction('convertToInteractive',\n",
              "                                                     [key], {});\n",
              "          if (!dataTable) return;\n",
              "\n",
              "          const docLinkHtml = 'Like what you see? Visit the ' +\n",
              "            '<a target=\"_blank\" href=https://colab.research.google.com/notebooks/data_table.ipynb>data table notebook</a>'\n",
              "            + ' to learn more about interactive tables.';\n",
              "          element.innerHTML = '';\n",
              "          dataTable['output_type'] = 'display_data';\n",
              "          await google.colab.output.renderOutput(dataTable, element);\n",
              "          const docLink = document.createElement('div');\n",
              "          docLink.innerHTML = docLinkHtml;\n",
              "          element.appendChild(docLink);\n",
              "        }\n",
              "      </script>\n",
              "    </div>\n",
              "  </div>\n",
              "  "
            ]
          },
          "metadata": {},
          "execution_count": 24
        }
      ],
      "source": [
        "df=pd.read_csv('train.csv')\n",
        "df.head()"
      ]
    },
    {
      "cell_type": "markdown",
      "id": "9107e67c",
      "metadata": {
        "papermill": {
          "duration": 0.009735,
          "end_time": "2022-11-20T09:53:15.767816",
          "exception": false,
          "start_time": "2022-11-20T09:53:15.758081",
          "status": "completed"
        },
        "tags": [],
        "id": "9107e67c"
      },
      "source": [
        "From above code we can see or print our data frame and assigned it with variable df\n"
      ]
    },
    {
      "cell_type": "code",
      "execution_count": 25,
      "id": "d24386b2",
      "metadata": {
        "execution": {
          "iopub.execute_input": "2022-11-20T09:53:15.791241Z",
          "iopub.status.busy": "2022-11-20T09:53:15.790860Z",
          "iopub.status.idle": "2022-11-20T09:53:15.913188Z",
          "shell.execute_reply": "2022-11-20T09:53:15.912301Z"
        },
        "papermill": {
          "duration": 0.137179,
          "end_time": "2022-11-20T09:53:15.915031",
          "exception": false,
          "start_time": "2022-11-20T09:53:15.777852",
          "status": "completed"
        },
        "tags": [],
        "colab": {
          "base_uri": "https://localhost:8080/"
        },
        "id": "d24386b2",
        "outputId": "f24f3967-abe5-4185-b8e6-fcc00dfaa3f3"
      },
      "outputs": [
        {
          "output_type": "stream",
          "name": "stdout",
          "text": [
            "<class 'pandas.core.frame.DataFrame'>\n",
            "RangeIndex: 572657 entries, 0 to 572656\n",
            "Data columns (total 12 columns):\n",
            " #   Column                      Non-Null Count   Dtype  \n",
            "---  ------                      --------------   -----  \n",
            " 0   User_ID                     572657 non-null  int64  \n",
            " 1   Product_ID                  572657 non-null  object \n",
            " 2   Gender                      572657 non-null  object \n",
            " 3   Age                         572657 non-null  object \n",
            " 4   Occupation                  572657 non-null  int64  \n",
            " 5   City_Category               572657 non-null  object \n",
            " 6   Stay_In_Current_City_Years  572657 non-null  object \n",
            " 7   Marital_Status              572656 non-null  float64\n",
            " 8   Product_Category_1          572656 non-null  float64\n",
            " 9   Product_Category_2          391977 non-null  float64\n",
            " 10  Product_Category_3          173741 non-null  float64\n",
            " 11  Purchase                    572655 non-null  float64\n",
            "dtypes: float64(5), int64(2), object(5)\n",
            "memory usage: 52.4+ MB\n"
          ]
        },
        {
          "output_type": "execute_result",
          "data": {
            "text/plain": [
              "((572657, 12),\n",
              " Index(['User_ID', 'Product_ID', 'Gender', 'Age', 'Occupation', 'City_Category',\n",
              "        'Stay_In_Current_City_Years', 'Marital_Status', 'Product_Category_1',\n",
              "        'Product_Category_2', 'Product_Category_3', 'Purchase'],\n",
              "       dtype='object'),\n",
              " None)"
            ]
          },
          "metadata": {},
          "execution_count": 25
        }
      ],
      "source": [
        "df.shape, df.columns,df.info()"
      ]
    },
    {
      "cell_type": "markdown",
      "id": "8cf40622",
      "metadata": {
        "papermill": {
          "duration": 0.010139,
          "end_time": "2022-11-20T09:53:15.935577",
          "exception": false,
          "start_time": "2022-11-20T09:53:15.925438",
          "status": "completed"
        },
        "tags": [],
        "id": "8cf40622"
      },
      "source": [
        "From the above code we have checked shape,columns of our dataframe & information of each index. it will help us to clean dataframe "
      ]
    },
    {
      "cell_type": "code",
      "execution_count": 26,
      "id": "f39a2c5f",
      "metadata": {
        "execution": {
          "iopub.execute_input": "2022-11-20T09:53:15.958062Z",
          "iopub.status.busy": "2022-11-20T09:53:15.957690Z",
          "iopub.status.idle": "2022-11-20T09:53:15.969871Z",
          "shell.execute_reply": "2022-11-20T09:53:15.968915Z"
        },
        "papermill": {
          "duration": 0.026212,
          "end_time": "2022-11-20T09:53:15.972311",
          "exception": false,
          "start_time": "2022-11-20T09:53:15.946099",
          "status": "completed"
        },
        "tags": [],
        "colab": {
          "base_uri": "https://localhost:8080/"
        },
        "id": "f39a2c5f",
        "outputId": "392a0c78-7ca6-4c1b-b461-5956db4fa249"
      },
      "outputs": [
        {
          "output_type": "execute_result",
          "data": {
            "text/plain": [
              "(array([1000001, 1000002, 1000003, ..., 1004113, 1005391, 1001529]), False)"
            ]
          },
          "metadata": {},
          "execution_count": 26
        }
      ],
      "source": [
        "df['User_ID'].unique() , df['User_ID'].hasnans"
      ]
    },
    {
      "cell_type": "raw",
      "id": "239cc069",
      "metadata": {
        "papermill": {
          "duration": 0.010115,
          "end_time": "2022-11-20T09:53:15.993196",
          "exception": false,
          "start_time": "2022-11-20T09:53:15.983081",
          "status": "completed"
        },
        "tags": [],
        "id": "239cc069"
      },
      "source": [
        "Here we can check unique values of column 'User_ID',& presence of NAN values in that column"
      ]
    },
    {
      "cell_type": "code",
      "execution_count": 27,
      "id": "f9b1e9c0",
      "metadata": {
        "execution": {
          "iopub.execute_input": "2022-11-20T09:53:16.016663Z",
          "iopub.status.busy": "2022-11-20T09:53:16.016286Z",
          "iopub.status.idle": "2022-11-20T09:53:16.086261Z",
          "shell.execute_reply": "2022-11-20T09:53:16.084911Z"
        },
        "papermill": {
          "duration": 0.084704,
          "end_time": "2022-11-20T09:53:16.088496",
          "exception": false,
          "start_time": "2022-11-20T09:53:16.003792",
          "status": "completed"
        },
        "tags": [],
        "colab": {
          "base_uri": "https://localhost:8080/"
        },
        "id": "f9b1e9c0",
        "outputId": "5191e090-d01d-4221-fad4-fe3b85482791"
      },
      "outputs": [
        {
          "output_type": "execute_result",
          "data": {
            "text/plain": [
              "(array(['P00069042', 'P00248942', 'P00087842', ..., 'P00370293',\n",
              "        'P00371644', 'P00370853'], dtype=object), False)"
            ]
          },
          "metadata": {},
          "execution_count": 27
        }
      ],
      "source": [
        "df['Product_ID'].unique() ,df['Product_ID'].hasnans"
      ]
    },
    {
      "cell_type": "markdown",
      "id": "1473af3c",
      "metadata": {
        "papermill": {
          "duration": 0.010554,
          "end_time": "2022-11-20T09:53:16.109919",
          "exception": false,
          "start_time": "2022-11-20T09:53:16.099365",
          "status": "completed"
        },
        "tags": [],
        "id": "1473af3c"
      },
      "source": [
        "Here we can check unique values of column 'Product_ID',& presence of NAN values in that column"
      ]
    },
    {
      "cell_type": "code",
      "execution_count": 28,
      "id": "64cc4f91",
      "metadata": {
        "execution": {
          "iopub.execute_input": "2022-11-20T09:53:16.133329Z",
          "iopub.status.busy": "2022-11-20T09:53:16.132906Z",
          "iopub.status.idle": "2022-11-20T09:53:16.187389Z",
          "shell.execute_reply": "2022-11-20T09:53:16.186398Z"
        },
        "papermill": {
          "duration": 0.068915,
          "end_time": "2022-11-20T09:53:16.189636",
          "exception": false,
          "start_time": "2022-11-20T09:53:16.120721",
          "status": "completed"
        },
        "tags": [],
        "colab": {
          "base_uri": "https://localhost:8080/"
        },
        "id": "64cc4f91",
        "outputId": "6ce4ed4a-4691-4bd4-ea6a-3dbc016687f2"
      },
      "outputs": [
        {
          "output_type": "execute_result",
          "data": {
            "text/plain": [
              "(array(['F', 'M', 'A'], dtype=object), False)"
            ]
          },
          "metadata": {},
          "execution_count": 28
        }
      ],
      "source": [
        "df['Gender'].unique() ,df['Gender'].hasnans"
      ]
    },
    {
      "cell_type": "markdown",
      "id": "8b2937d6",
      "metadata": {
        "papermill": {
          "duration": 0.01072,
          "end_time": "2022-11-20T09:53:16.211464",
          "exception": false,
          "start_time": "2022-11-20T09:53:16.200744",
          "status": "completed"
        },
        "tags": [],
        "id": "8b2937d6"
      },
      "source": [
        "Here we can check unique values of column 'Gender',& presence of NAN values in that column"
      ]
    },
    {
      "cell_type": "code",
      "execution_count": 29,
      "id": "b7c100b7",
      "metadata": {
        "execution": {
          "iopub.execute_input": "2022-11-20T09:53:16.235728Z",
          "iopub.status.busy": "2022-11-20T09:53:16.234832Z",
          "iopub.status.idle": "2022-11-20T09:53:16.291929Z",
          "shell.execute_reply": "2022-11-20T09:53:16.290650Z"
        },
        "papermill": {
          "duration": 0.071557,
          "end_time": "2022-11-20T09:53:16.294124",
          "exception": false,
          "start_time": "2022-11-20T09:53:16.222567",
          "status": "completed"
        },
        "tags": [],
        "colab": {
          "base_uri": "https://localhost:8080/"
        },
        "id": "b7c100b7",
        "outputId": "1a6de7f9-da57-45f1-f5e7-7ecbc5c85d2c"
      },
      "outputs": [
        {
          "output_type": "execute_result",
          "data": {
            "text/plain": [
              "(array(['0-17', '55+', '26-35', '46-50', '51-55', '36-45', '18-25', '26-',\n",
              "        '1'], dtype=object), False)"
            ]
          },
          "metadata": {},
          "execution_count": 29
        }
      ],
      "source": [
        "df['Age'].unique() ,df['Age'].hasnans"
      ]
    },
    {
      "cell_type": "markdown",
      "id": "2cf3d051",
      "metadata": {
        "papermill": {
          "duration": 0.010692,
          "end_time": "2022-11-20T09:53:16.315902",
          "exception": false,
          "start_time": "2022-11-20T09:53:16.305210",
          "status": "completed"
        },
        "tags": [],
        "id": "2cf3d051"
      },
      "source": [
        "Here we can check unique values of column 'Age',& presence of NAN values in that column"
      ]
    },
    {
      "cell_type": "code",
      "execution_count": 30,
      "id": "5937c4f7",
      "metadata": {
        "execution": {
          "iopub.execute_input": "2022-11-20T09:53:16.339407Z",
          "iopub.status.busy": "2022-11-20T09:53:16.339046Z",
          "iopub.status.idle": "2022-11-20T09:53:16.347460Z",
          "shell.execute_reply": "2022-11-20T09:53:16.346604Z"
        },
        "papermill": {
          "duration": 0.022614,
          "end_time": "2022-11-20T09:53:16.349354",
          "exception": false,
          "start_time": "2022-11-20T09:53:16.326740",
          "status": "completed"
        },
        "tags": [],
        "colab": {
          "base_uri": "https://localhost:8080/"
        },
        "id": "5937c4f7",
        "outputId": "eb5a1128-26af-454c-819a-7159ea07bd02"
      },
      "outputs": [
        {
          "output_type": "execute_result",
          "data": {
            "text/plain": [
              "(array([10, 16, 15,  7, 20,  9,  1, 12, 17,  0,  3,  4, 11,  8, 19,  2, 18,\n",
              "         5, 14, 13,  6]), False)"
            ]
          },
          "metadata": {},
          "execution_count": 30
        }
      ],
      "source": [
        "df['Occupation'].unique() ,df['Occupation'].hasnans"
      ]
    },
    {
      "cell_type": "markdown",
      "id": "38ca0d6c",
      "metadata": {
        "papermill": {
          "duration": 0.011013,
          "end_time": "2022-11-20T09:53:16.371728",
          "exception": false,
          "start_time": "2022-11-20T09:53:16.360715",
          "status": "completed"
        },
        "tags": [],
        "id": "38ca0d6c"
      },
      "source": [
        "Here we can check unique values of column 'Occupation',& presence of NAN values in that column"
      ]
    },
    {
      "cell_type": "code",
      "execution_count": 31,
      "id": "233b3266",
      "metadata": {
        "execution": {
          "iopub.execute_input": "2022-11-20T09:53:16.396059Z",
          "iopub.status.busy": "2022-11-20T09:53:16.395406Z",
          "iopub.status.idle": "2022-11-20T09:53:16.449437Z",
          "shell.execute_reply": "2022-11-20T09:53:16.448637Z"
        },
        "papermill": {
          "duration": 0.068457,
          "end_time": "2022-11-20T09:53:16.451297",
          "exception": false,
          "start_time": "2022-11-20T09:53:16.382840",
          "status": "completed"
        },
        "tags": [],
        "colab": {
          "base_uri": "https://localhost:8080/"
        },
        "id": "233b3266",
        "outputId": "ff5bd457-46a7-4063-881c-28947f5eed1f"
      },
      "outputs": [
        {
          "output_type": "execute_result",
          "data": {
            "text/plain": [
              "(array(['A', 'C', 'B', '0', '6'], dtype=object), False)"
            ]
          },
          "metadata": {},
          "execution_count": 31
        }
      ],
      "source": [
        "df['City_Category'].unique(), df['City_Category'].hasnans"
      ]
    },
    {
      "cell_type": "markdown",
      "id": "ae13ddd9",
      "metadata": {
        "papermill": {
          "duration": 0.010739,
          "end_time": "2022-11-20T09:53:16.473226",
          "exception": false,
          "start_time": "2022-11-20T09:53:16.462487",
          "status": "completed"
        },
        "tags": [],
        "id": "ae13ddd9"
      },
      "source": [
        "Here we can check unique values of column 'City_Category',& presence of NAN values in that column"
      ]
    },
    {
      "cell_type": "code",
      "execution_count": 32,
      "id": "a1990ab1",
      "metadata": {
        "execution": {
          "iopub.execute_input": "2022-11-20T09:53:16.497187Z",
          "iopub.status.busy": "2022-11-20T09:53:16.496466Z",
          "iopub.status.idle": "2022-11-20T09:53:16.551741Z",
          "shell.execute_reply": "2022-11-20T09:53:16.550713Z"
        },
        "papermill": {
          "duration": 0.069798,
          "end_time": "2022-11-20T09:53:16.553996",
          "exception": false,
          "start_time": "2022-11-20T09:53:16.484198",
          "status": "completed"
        },
        "tags": [],
        "colab": {
          "base_uri": "https://localhost:8080/"
        },
        "id": "a1990ab1",
        "outputId": "8e8c85ee-b68b-41b7-e2ca-95180b4dbf15"
      },
      "outputs": [
        {
          "output_type": "execute_result",
          "data": {
            "text/plain": [
              "(array(['2', '4+', '3', '1', '0', '4', '16'], dtype=object), False)"
            ]
          },
          "metadata": {},
          "execution_count": 32
        }
      ],
      "source": [
        "df['Stay_In_Current_City_Years'].unique(), df['Stay_In_Current_City_Years'].hasnans"
      ]
    },
    {
      "cell_type": "markdown",
      "id": "8b521bc9",
      "metadata": {
        "papermill": {
          "duration": 0.010802,
          "end_time": "2022-11-20T09:53:16.576069",
          "exception": false,
          "start_time": "2022-11-20T09:53:16.565267",
          "status": "completed"
        },
        "tags": [],
        "id": "8b521bc9"
      },
      "source": [
        "Here we can check unique values of column 'Stay_In_Current_City_Years',& presence of NAN values in that column"
      ]
    },
    {
      "cell_type": "code",
      "execution_count": 33,
      "id": "6cb132f4",
      "metadata": {
        "execution": {
          "iopub.execute_input": "2022-11-20T09:53:16.600550Z",
          "iopub.status.busy": "2022-11-20T09:53:16.599541Z",
          "iopub.status.idle": "2022-11-20T09:53:16.610194Z",
          "shell.execute_reply": "2022-11-20T09:53:16.609104Z"
        },
        "papermill": {
          "duration": 0.025322,
          "end_time": "2022-11-20T09:53:16.612481",
          "exception": false,
          "start_time": "2022-11-20T09:53:16.587159",
          "status": "completed"
        },
        "tags": [],
        "colab": {
          "base_uri": "https://localhost:8080/"
        },
        "id": "6cb132f4",
        "outputId": "470c7dd8-c011-4bd4-9b3f-df8e33cd6d81"
      },
      "outputs": [
        {
          "output_type": "execute_result",
          "data": {
            "text/plain": [
              "(array([ 0.,  1.,  5., nan]), True)"
            ]
          },
          "metadata": {},
          "execution_count": 33
        }
      ],
      "source": [
        "df['Marital_Status'].unique(), df['Marital_Status'].hasnans"
      ]
    },
    {
      "cell_type": "markdown",
      "id": "57ac26b7",
      "metadata": {
        "papermill": {
          "duration": 0.010936,
          "end_time": "2022-11-20T09:53:16.635167",
          "exception": false,
          "start_time": "2022-11-20T09:53:16.624231",
          "status": "completed"
        },
        "tags": [],
        "id": "57ac26b7"
      },
      "source": [
        "Here we can check unique values of column 'Marital_Status',& presence of NAN values in that column"
      ]
    },
    {
      "cell_type": "code",
      "execution_count": 34,
      "id": "5fdf1fad",
      "metadata": {
        "execution": {
          "iopub.execute_input": "2022-11-20T09:53:16.659598Z",
          "iopub.status.busy": "2022-11-20T09:53:16.659038Z",
          "iopub.status.idle": "2022-11-20T09:53:16.667058Z",
          "shell.execute_reply": "2022-11-20T09:53:16.666114Z"
        },
        "papermill": {
          "duration": 0.022325,
          "end_time": "2022-11-20T09:53:16.668831",
          "exception": false,
          "start_time": "2022-11-20T09:53:16.646506",
          "status": "completed"
        },
        "tags": [],
        "colab": {
          "base_uri": "https://localhost:8080/"
        },
        "id": "5fdf1fad",
        "outputId": "0e8b05fd-95d6-4841-c225-ea26c86b8542"
      },
      "outputs": [
        {
          "output_type": "execute_result",
          "data": {
            "text/plain": [
              "(array([3.0000e+00, 1.0000e+00, 1.2000e+01, 8.0000e+00, 5.0000e+00,\n",
              "        4.0000e+00, 2.0000e+00, 6.0000e+00, 1.4000e+01, 1.1000e+01,\n",
              "        1.3000e+01, 1.5000e+01, 7.0000e+00, 1.6000e+01, 1.8000e+01,\n",
              "        1.0000e+01, 1.7000e+01, 9.0000e+00,        nan, 2.0506e+04,\n",
              "        2.0000e+01, 1.9000e+01]), True)"
            ]
          },
          "metadata": {},
          "execution_count": 34
        }
      ],
      "source": [
        "df['Product_Category_1'].unique(), df['Product_Category_1'].hasnans"
      ]
    },
    {
      "cell_type": "markdown",
      "id": "58e11f6e",
      "metadata": {
        "papermill": {
          "duration": 0.011043,
          "end_time": "2022-11-20T09:53:16.691428",
          "exception": false,
          "start_time": "2022-11-20T09:53:16.680385",
          "status": "completed"
        },
        "tags": [],
        "id": "58e11f6e"
      },
      "source": [
        "Here we can check unique values of column 'Product_Category_1',& presence of NAN values in that column"
      ]
    },
    {
      "cell_type": "code",
      "execution_count": 35,
      "id": "a9f55d4a",
      "metadata": {
        "execution": {
          "iopub.execute_input": "2022-11-20T09:53:16.715859Z",
          "iopub.status.busy": "2022-11-20T09:53:16.715253Z",
          "iopub.status.idle": "2022-11-20T09:53:16.728634Z",
          "shell.execute_reply": "2022-11-20T09:53:16.727429Z"
        },
        "papermill": {
          "duration": 0.027731,
          "end_time": "2022-11-20T09:53:16.730387",
          "exception": false,
          "start_time": "2022-11-20T09:53:16.702656",
          "status": "completed"
        },
        "tags": [],
        "colab": {
          "base_uri": "https://localhost:8080/"
        },
        "id": "a9f55d4a",
        "outputId": "ce86799f-2f38-423a-ebc4-1b577e2b257a"
      },
      "outputs": [
        {
          "output_type": "execute_result",
          "data": {
            "text/plain": [
              "(array([      nan, 6.000e+00, 1.400e+01, 2.000e+00, 8.000e+00, 1.500e+01,\n",
              "        1.600e+01, 1.100e+01, 5.000e+00, 3.000e+00, 4.000e+00, 1.200e+01,\n",
              "        9.000e+00, 1.000e+01, 1.700e+01, 1.300e+01, 7.000e+00, 1.800e+01,\n",
              "        2.851e+03]), True)"
            ]
          },
          "metadata": {},
          "execution_count": 35
        }
      ],
      "source": [
        "df['Product_Category_2'].unique(), df['Product_Category_2'].hasnans"
      ]
    },
    {
      "cell_type": "markdown",
      "id": "38f814a0",
      "metadata": {
        "papermill": {
          "duration": 0.011649,
          "end_time": "2022-11-20T09:53:16.754101",
          "exception": false,
          "start_time": "2022-11-20T09:53:16.742452",
          "status": "completed"
        },
        "tags": [],
        "id": "38f814a0"
      },
      "source": [
        "Here we can check unique values of column 'Product_Category_2',& presence of NAN values in that column"
      ]
    },
    {
      "cell_type": "code",
      "execution_count": 36,
      "id": "68ec589e",
      "metadata": {
        "execution": {
          "iopub.execute_input": "2022-11-20T09:53:16.779122Z",
          "iopub.status.busy": "2022-11-20T09:53:16.778534Z",
          "iopub.status.idle": "2022-11-20T09:53:16.789701Z",
          "shell.execute_reply": "2022-11-20T09:53:16.788740Z"
        },
        "papermill": {
          "duration": 0.026292,
          "end_time": "2022-11-20T09:53:16.792044",
          "exception": false,
          "start_time": "2022-11-20T09:53:16.765752",
          "status": "completed"
        },
        "tags": [],
        "colab": {
          "base_uri": "https://localhost:8080/"
        },
        "id": "68ec589e",
        "outputId": "b321895e-7adc-4ae1-ff04-72ebfdd15b28"
      },
      "outputs": [
        {
          "output_type": "execute_result",
          "data": {
            "text/plain": [
              "(array([nan, 14., 17.,  5.,  4., 16., 15.,  8.,  9., 13.,  6., 12.,  3.,\n",
              "        18., 11., 10.]), True)"
            ]
          },
          "metadata": {},
          "execution_count": 36
        }
      ],
      "source": [
        "df['Product_Category_3'].unique(), df['Product_Category_3'].hasnans"
      ]
    },
    {
      "cell_type": "markdown",
      "id": "7448f4a0",
      "metadata": {
        "papermill": {
          "duration": 0.011256,
          "end_time": "2022-11-20T09:53:16.814806",
          "exception": false,
          "start_time": "2022-11-20T09:53:16.803550",
          "status": "completed"
        },
        "tags": [],
        "id": "7448f4a0"
      },
      "source": [
        "Here we can check unique values of column 'Product_Category_3',& presence of NAN values in that column"
      ]
    },
    {
      "cell_type": "code",
      "execution_count": 37,
      "id": "8430a99a",
      "metadata": {
        "execution": {
          "iopub.execute_input": "2022-11-20T09:53:16.839694Z",
          "iopub.status.busy": "2022-11-20T09:53:16.839322Z",
          "iopub.status.idle": "2022-11-20T09:53:16.850428Z",
          "shell.execute_reply": "2022-11-20T09:53:16.849492Z"
        },
        "papermill": {
          "duration": 0.026525,
          "end_time": "2022-11-20T09:53:16.852902",
          "exception": false,
          "start_time": "2022-11-20T09:53:16.826377",
          "status": "completed"
        },
        "tags": [],
        "colab": {
          "base_uri": "https://localhost:8080/"
        },
        "id": "8430a99a",
        "outputId": "fa6864df-55ca-4874-d879-56f6eb5f5abf"
      },
      "outputs": [
        {
          "output_type": "execute_result",
          "data": {
            "text/plain": [
              "(array([ 8370., 15200.,  1422., ...,   135.,   123.,   613.]), True)"
            ]
          },
          "metadata": {},
          "execution_count": 37
        }
      ],
      "source": [
        "df['Purchase'].unique(), df['Purchase'].hasnans"
      ]
    },
    {
      "cell_type": "markdown",
      "id": "62bc35ab",
      "metadata": {
        "papermill": {
          "duration": 0.011469,
          "end_time": "2022-11-20T09:53:16.876352",
          "exception": false,
          "start_time": "2022-11-20T09:53:16.864883",
          "status": "completed"
        },
        "tags": [],
        "id": "62bc35ab"
      },
      "source": [
        "Here we can check unique values of column 'Purchase',& presence of NAN values in that column"
      ]
    },
    {
      "cell_type": "code",
      "execution_count": 38,
      "id": "af030eb0",
      "metadata": {
        "execution": {
          "iopub.execute_input": "2022-11-20T09:53:16.902052Z",
          "iopub.status.busy": "2022-11-20T09:53:16.901686Z",
          "iopub.status.idle": "2022-11-20T09:53:17.032217Z",
          "shell.execute_reply": "2022-11-20T09:53:17.031042Z"
        },
        "papermill": {
          "duration": 0.145727,
          "end_time": "2022-11-20T09:53:17.034246",
          "exception": false,
          "start_time": "2022-11-20T09:53:16.888519",
          "status": "completed"
        },
        "tags": [],
        "colab": {
          "base_uri": "https://localhost:8080/",
          "height": 357
        },
        "id": "af030eb0",
        "outputId": "313a90cd-8f50-42b9-d2e8-49b983bc43d1"
      },
      "outputs": [
        {
          "output_type": "execute_result",
          "data": {
            "text/plain": [
              "    User_ID Product_ID Gender    Age  Occupation City_Category  \\\n",
              "1   1000001  P00248942      F   0-17          10             A   \n",
              "6   1000004  P00184942      M  46-50           7             B   \n",
              "13  1000005  P00145042      M  26-35          20             A   \n",
              "14  1000006  P00231342      F  51-55           9             A   \n",
              "16  1000006   P0096642      F  51-55           9             A   \n",
              "\n",
              "   Stay_In_Current_City_Years  Marital_Status  Product_Category_1  \\\n",
              "1                           2             0.0                 1.0   \n",
              "6                           2             1.0                 1.0   \n",
              "13                          1             1.0                 1.0   \n",
              "14                          1             0.0                 5.0   \n",
              "16                          1             0.0                 2.0   \n",
              "\n",
              "    Product_Category_2  Product_Category_3  Purchase  \n",
              "1                  6.0                14.0   15200.0  \n",
              "6                  8.0                17.0   19215.0  \n",
              "13                 2.0                 5.0   15665.0  \n",
              "14                 8.0                14.0    5378.0  \n",
              "16                 3.0                 4.0   13055.0  "
            ],
            "text/html": [
              "\n",
              "  <div id=\"df-9ab492d6-d50b-40d2-a085-3af79049c53e\">\n",
              "    <div class=\"colab-df-container\">\n",
              "      <div>\n",
              "<style scoped>\n",
              "    .dataframe tbody tr th:only-of-type {\n",
              "        vertical-align: middle;\n",
              "    }\n",
              "\n",
              "    .dataframe tbody tr th {\n",
              "        vertical-align: top;\n",
              "    }\n",
              "\n",
              "    .dataframe thead th {\n",
              "        text-align: right;\n",
              "    }\n",
              "</style>\n",
              "<table border=\"1\" class=\"dataframe\">\n",
              "  <thead>\n",
              "    <tr style=\"text-align: right;\">\n",
              "      <th></th>\n",
              "      <th>User_ID</th>\n",
              "      <th>Product_ID</th>\n",
              "      <th>Gender</th>\n",
              "      <th>Age</th>\n",
              "      <th>Occupation</th>\n",
              "      <th>City_Category</th>\n",
              "      <th>Stay_In_Current_City_Years</th>\n",
              "      <th>Marital_Status</th>\n",
              "      <th>Product_Category_1</th>\n",
              "      <th>Product_Category_2</th>\n",
              "      <th>Product_Category_3</th>\n",
              "      <th>Purchase</th>\n",
              "    </tr>\n",
              "  </thead>\n",
              "  <tbody>\n",
              "    <tr>\n",
              "      <th>1</th>\n",
              "      <td>1000001</td>\n",
              "      <td>P00248942</td>\n",
              "      <td>F</td>\n",
              "      <td>0-17</td>\n",
              "      <td>10</td>\n",
              "      <td>A</td>\n",
              "      <td>2</td>\n",
              "      <td>0.0</td>\n",
              "      <td>1.0</td>\n",
              "      <td>6.0</td>\n",
              "      <td>14.0</td>\n",
              "      <td>15200.0</td>\n",
              "    </tr>\n",
              "    <tr>\n",
              "      <th>6</th>\n",
              "      <td>1000004</td>\n",
              "      <td>P00184942</td>\n",
              "      <td>M</td>\n",
              "      <td>46-50</td>\n",
              "      <td>7</td>\n",
              "      <td>B</td>\n",
              "      <td>2</td>\n",
              "      <td>1.0</td>\n",
              "      <td>1.0</td>\n",
              "      <td>8.0</td>\n",
              "      <td>17.0</td>\n",
              "      <td>19215.0</td>\n",
              "    </tr>\n",
              "    <tr>\n",
              "      <th>13</th>\n",
              "      <td>1000005</td>\n",
              "      <td>P00145042</td>\n",
              "      <td>M</td>\n",
              "      <td>26-35</td>\n",
              "      <td>20</td>\n",
              "      <td>A</td>\n",
              "      <td>1</td>\n",
              "      <td>1.0</td>\n",
              "      <td>1.0</td>\n",
              "      <td>2.0</td>\n",
              "      <td>5.0</td>\n",
              "      <td>15665.0</td>\n",
              "    </tr>\n",
              "    <tr>\n",
              "      <th>14</th>\n",
              "      <td>1000006</td>\n",
              "      <td>P00231342</td>\n",
              "      <td>F</td>\n",
              "      <td>51-55</td>\n",
              "      <td>9</td>\n",
              "      <td>A</td>\n",
              "      <td>1</td>\n",
              "      <td>0.0</td>\n",
              "      <td>5.0</td>\n",
              "      <td>8.0</td>\n",
              "      <td>14.0</td>\n",
              "      <td>5378.0</td>\n",
              "    </tr>\n",
              "    <tr>\n",
              "      <th>16</th>\n",
              "      <td>1000006</td>\n",
              "      <td>P0096642</td>\n",
              "      <td>F</td>\n",
              "      <td>51-55</td>\n",
              "      <td>9</td>\n",
              "      <td>A</td>\n",
              "      <td>1</td>\n",
              "      <td>0.0</td>\n",
              "      <td>2.0</td>\n",
              "      <td>3.0</td>\n",
              "      <td>4.0</td>\n",
              "      <td>13055.0</td>\n",
              "    </tr>\n",
              "  </tbody>\n",
              "</table>\n",
              "</div>\n",
              "      <button class=\"colab-df-convert\" onclick=\"convertToInteractive('df-9ab492d6-d50b-40d2-a085-3af79049c53e')\"\n",
              "              title=\"Convert this dataframe to an interactive table.\"\n",
              "              style=\"display:none;\">\n",
              "        \n",
              "  <svg xmlns=\"http://www.w3.org/2000/svg\" height=\"24px\"viewBox=\"0 0 24 24\"\n",
              "       width=\"24px\">\n",
              "    <path d=\"M0 0h24v24H0V0z\" fill=\"none\"/>\n",
              "    <path d=\"M18.56 5.44l.94 2.06.94-2.06 2.06-.94-2.06-.94-.94-2.06-.94 2.06-2.06.94zm-11 1L8.5 8.5l.94-2.06 2.06-.94-2.06-.94L8.5 2.5l-.94 2.06-2.06.94zm10 10l.94 2.06.94-2.06 2.06-.94-2.06-.94-.94-2.06-.94 2.06-2.06.94z\"/><path d=\"M17.41 7.96l-1.37-1.37c-.4-.4-.92-.59-1.43-.59-.52 0-1.04.2-1.43.59L10.3 9.45l-7.72 7.72c-.78.78-.78 2.05 0 2.83L4 21.41c.39.39.9.59 1.41.59.51 0 1.02-.2 1.41-.59l7.78-7.78 2.81-2.81c.8-.78.8-2.07 0-2.86zM5.41 20L4 18.59l7.72-7.72 1.47 1.35L5.41 20z\"/>\n",
              "  </svg>\n",
              "      </button>\n",
              "      \n",
              "  <style>\n",
              "    .colab-df-container {\n",
              "      display:flex;\n",
              "      flex-wrap:wrap;\n",
              "      gap: 12px;\n",
              "    }\n",
              "\n",
              "    .colab-df-convert {\n",
              "      background-color: #E8F0FE;\n",
              "      border: none;\n",
              "      border-radius: 50%;\n",
              "      cursor: pointer;\n",
              "      display: none;\n",
              "      fill: #1967D2;\n",
              "      height: 32px;\n",
              "      padding: 0 0 0 0;\n",
              "      width: 32px;\n",
              "    }\n",
              "\n",
              "    .colab-df-convert:hover {\n",
              "      background-color: #E2EBFA;\n",
              "      box-shadow: 0px 1px 2px rgba(60, 64, 67, 0.3), 0px 1px 3px 1px rgba(60, 64, 67, 0.15);\n",
              "      fill: #174EA6;\n",
              "    }\n",
              "\n",
              "    [theme=dark] .colab-df-convert {\n",
              "      background-color: #3B4455;\n",
              "      fill: #D2E3FC;\n",
              "    }\n",
              "\n",
              "    [theme=dark] .colab-df-convert:hover {\n",
              "      background-color: #434B5C;\n",
              "      box-shadow: 0px 1px 3px 1px rgba(0, 0, 0, 0.15);\n",
              "      filter: drop-shadow(0px 1px 2px rgba(0, 0, 0, 0.3));\n",
              "      fill: #FFFFFF;\n",
              "    }\n",
              "  </style>\n",
              "\n",
              "      <script>\n",
              "        const buttonEl =\n",
              "          document.querySelector('#df-9ab492d6-d50b-40d2-a085-3af79049c53e button.colab-df-convert');\n",
              "        buttonEl.style.display =\n",
              "          google.colab.kernel.accessAllowed ? 'block' : 'none';\n",
              "\n",
              "        async function convertToInteractive(key) {\n",
              "          const element = document.querySelector('#df-9ab492d6-d50b-40d2-a085-3af79049c53e');\n",
              "          const dataTable =\n",
              "            await google.colab.kernel.invokeFunction('convertToInteractive',\n",
              "                                                     [key], {});\n",
              "          if (!dataTable) return;\n",
              "\n",
              "          const docLinkHtml = 'Like what you see? Visit the ' +\n",
              "            '<a target=\"_blank\" href=https://colab.research.google.com/notebooks/data_table.ipynb>data table notebook</a>'\n",
              "            + ' to learn more about interactive tables.';\n",
              "          element.innerHTML = '';\n",
              "          dataTable['output_type'] = 'display_data';\n",
              "          await google.colab.output.renderOutput(dataTable, element);\n",
              "          const docLink = document.createElement('div');\n",
              "          docLink.innerHTML = docLinkHtml;\n",
              "          element.appendChild(docLink);\n",
              "        }\n",
              "      </script>\n",
              "    </div>\n",
              "  </div>\n",
              "  "
            ]
          },
          "metadata": {},
          "execution_count": 38
        }
      ],
      "source": [
        "df1=df.dropna()\n",
        "df1.head()"
      ]
    },
    {
      "cell_type": "markdown",
      "id": "132375bc",
      "metadata": {
        "papermill": {
          "duration": 0.011874,
          "end_time": "2022-11-20T09:53:17.058137",
          "exception": false,
          "start_time": "2022-11-20T09:53:17.046263",
          "status": "completed"
        },
        "tags": [],
        "id": "132375bc"
      },
      "source": [
        "From The above code we have drop all the NAN values from the whole dataframe"
      ]
    },
    {
      "cell_type": "code",
      "execution_count": 39,
      "id": "6462c0d1",
      "metadata": {
        "execution": {
          "iopub.execute_input": "2022-11-20T09:53:17.085038Z",
          "iopub.status.busy": "2022-11-20T09:53:17.083824Z",
          "iopub.status.idle": "2022-11-20T09:53:17.380265Z",
          "shell.execute_reply": "2022-11-20T09:53:17.379570Z"
        },
        "papermill": {
          "duration": 0.311882,
          "end_time": "2022-11-20T09:53:17.382145",
          "exception": false,
          "start_time": "2022-11-20T09:53:17.070263",
          "status": "completed"
        },
        "tags": [],
        "colab": {
          "base_uri": "https://localhost:8080/",
          "height": 405
        },
        "id": "6462c0d1",
        "outputId": "b5d1a00c-7bfd-48d1-a3a7-b2f719d372d4"
      },
      "outputs": [
        {
          "output_type": "execute_result",
          "data": {
            "text/plain": [
              "<matplotlib.axes._subplots.AxesSubplot at 0x7faf58fcdca0>"
            ]
          },
          "metadata": {},
          "execution_count": 39
        },
        {
          "output_type": "display_data",
          "data": {
            "text/plain": [
              "<Figure size 1080x432 with 1 Axes>"
            ],
            "image/png": "[encoded data removed]"
          },
          "metadata": {
            "needs_background": "light"
          }
        }
      ],
      "source": [
        "import seaborn as sns\n",
        "import matplotlib.pyplot as plt\n",
        "plt.figure(figsize=(15,6))\n",
        "# df1.sort_values('Occupation',ascending=True)\n",
        "large_to_small = df1.groupby('Occupation').size().sort_values().index[::-1]\n",
        "sns.countplot(x='Occupation', data=df1, order=large_to_small)"
      ]
    },
    {
      "cell_type": "markdown",
      "id": "09aa1c5d",
      "metadata": {
        "papermill": {
          "duration": 0.011815,
          "end_time": "2022-11-20T09:53:17.406813",
          "exception": false,
          "start_time": "2022-11-20T09:53:17.394998",
          "status": "completed"
        },
        "tags": [],
        "id": "09aa1c5d"
      },
      "source": [
        "from the above graph we can conclude that Occupation-8 has minimum count & Occupation-4 has maximum count"
      ]
    },
    {
      "cell_type": "code",
      "execution_count": 40,
      "id": "65c4947a",
      "metadata": {
        "execution": {
          "iopub.execute_input": "2022-11-20T09:53:17.437639Z",
          "iopub.status.busy": "2022-11-20T09:53:17.436897Z",
          "iopub.status.idle": "2022-11-20T09:53:17.465689Z",
          "shell.execute_reply": "2022-11-20T09:53:17.464410Z"
        },
        "papermill": {
          "duration": 0.046936,
          "end_time": "2022-11-20T09:53:17.467987",
          "exception": false,
          "start_time": "2022-11-20T09:53:17.421051",
          "status": "completed"
        },
        "tags": [],
        "colab": {
          "base_uri": "https://localhost:8080/",
          "height": 270
        },
        "id": "65c4947a",
        "outputId": "11996452-c755-4710-86ef-596dfed7e536"
      },
      "outputs": [
        {
          "output_type": "execute_result",
          "data": {
            "text/plain": [
              "    User_ID Product_ID Gender Age_Group  Occupation_code City_Category  \\\n",
              "1   1000001  P00248942      F      0-17               10             A   \n",
              "6   1000004  P00184942      M     46-50                7             B   \n",
              "13  1000005  P00145042      M     26-35               20             A   \n",
              "14  1000006  P00231342      F     51-55                9             A   \n",
              "16  1000006   P0096642      F     51-55                9             A   \n",
              "\n",
              "   Staying_in_city_since  Marital_Status  Product_Category_1  \\\n",
              "1                      2             0.0                 1.0   \n",
              "6                      2             1.0                 1.0   \n",
              "13                     1             1.0                 1.0   \n",
              "14                     1             0.0                 5.0   \n",
              "16                     1             0.0                 2.0   \n",
              "\n",
              "    Product_Category_2  Product_Category_3  Purchase_cost  \n",
              "1                  6.0                14.0        15200.0  \n",
              "6                  8.0                17.0        19215.0  \n",
              "13                 2.0                 5.0        15665.0  \n",
              "14                 8.0                14.0         5378.0  \n",
              "16                 3.0                 4.0        13055.0  "
            ],
            "text/html": [
              "\n",
              "  <div id=\"df-bd485e65-dc11-4940-830c-1e7df79c808b\">\n",
              "    <div class=\"colab-df-container\">\n",
              "      <div>\n",
              "<style scoped>\n",
              "    .dataframe tbody tr th:only-of-type {\n",
              "        vertical-align: middle;\n",
              "    }\n",
              "\n",
              "    .dataframe tbody tr th {\n",
              "        vertical-align: top;\n",
              "    }\n",
              "\n",
              "    .dataframe thead th {\n",
              "        text-align: right;\n",
              "    }\n",
              "</style>\n",
              "<table border=\"1\" class=\"dataframe\">\n",
              "  <thead>\n",
              "    <tr style=\"text-align: right;\">\n",
              "      <th></th>\n",
              "      <th>User_ID</th>\n",
              "      <th>Product_ID</th>\n",
              "      <th>Gender</th>\n",
              "      <th>Age_Group</th>\n",
              "      <th>Occupation_code</th>\n",
              "      <th>City_Category</th>\n",
              "      <th>Staying_in_city_since</th>\n",
              "      <th>Marital_Status</th>\n",
              "      <th>Product_Category_1</th>\n",
              "      <th>Product_Category_2</th>\n",
              "      <th>Product_Category_3</th>\n",
              "      <th>Purchase_cost</th>\n",
              "    </tr>\n",
              "  </thead>\n",
              "  <tbody>\n",
              "    <tr>\n",
              "      <th>1</th>\n",
              "      <td>1000001</td>\n",
              "      <td>P00248942</td>\n",
              "      <td>F</td>\n",
              "      <td>0-17</td>\n",
              "      <td>10</td>\n",
              "      <td>A</td>\n",
              "      <td>2</td>\n",
              "      <td>0.0</td>\n",
              "      <td>1.0</td>\n",
              "      <td>6.0</td>\n",
              "      <td>14.0</td>\n",
              "      <td>15200.0</td>\n",
              "    </tr>\n",
              "    <tr>\n",
              "      <th>6</th>\n",
              "      <td>1000004</td>\n",
              "      <td>P00184942</td>\n",
              "      <td>M</td>\n",
              "      <td>46-50</td>\n",
              "      <td>7</td>\n",
              "      <td>B</td>\n",
              "      <td>2</td>\n",
              "      <td>1.0</td>\n",
              "      <td>1.0</td>\n",
              "      <td>8.0</td>\n",
              "      <td>17.0</td>\n",
              "      <td>19215.0</td>\n",
              "    </tr>\n",
              "    <tr>\n",
              "      <th>13</th>\n",
              "      <td>1000005</td>\n",
              "      <td>P00145042</td>\n",
              "      <td>M</td>\n",
              "      <td>26-35</td>\n",
              "      <td>20</td>\n",
              "      <td>A</td>\n",
              "      <td>1</td>\n",
              "      <td>1.0</td>\n",
              "      <td>1.0</td>\n",
              "      <td>2.0</td>\n",
              "      <td>5.0</td>\n",
              "      <td>15665.0</td>\n",
              "    </tr>\n",
              "    <tr>\n",
              "      <th>14</th>\n",
              "      <td>1000006</td>\n",
              "      <td>P00231342</td>\n",
              "      <td>F</td>\n",
              "      <td>51-55</td>\n",
              "      <td>9</td>\n",
              "      <td>A</td>\n",
              "      <td>1</td>\n",
              "      <td>0.0</td>\n",
              "      <td>5.0</td>\n",
              "      <td>8.0</td>\n",
              "      <td>14.0</td>\n",
              "      <td>5378.0</td>\n",
              "    </tr>\n",
              "    <tr>\n",
              "      <th>16</th>\n",
              "      <td>1000006</td>\n",
              "      <td>P0096642</td>\n",
              "      <td>F</td>\n",
              "      <td>51-55</td>\n",
              "      <td>9</td>\n",
              "      <td>A</td>\n",
              "      <td>1</td>\n",
              "      <td>0.0</td>\n",
              "      <td>2.0</td>\n",
              "      <td>3.0</td>\n",
              "      <td>4.0</td>\n",
              "      <td>13055.0</td>\n",
              "    </tr>\n",
              "  </tbody>\n",
              "</table>\n",
              "</div>\n",
              "      <button class=\"colab-df-convert\" onclick=\"convertToInteractive('df-bd485e65-dc11-4940-830c-1e7df79c808b')\"\n",
              "              title=\"Convert this dataframe to an interactive table.\"\n",
              "              style=\"display:none;\">\n",
              "        \n",
              "  <svg xmlns=\"http://www.w3.org/2000/svg\" height=\"24px\"viewBox=\"0 0 24 24\"\n",
              "       width=\"24px\">\n",
              "    <path d=\"M0 0h24v24H0V0z\" fill=\"none\"/>\n",
              "    <path d=\"M18.56 5.44l.94 2.06.94-2.06 2.06-.94-2.06-.94-.94-2.06-.94 2.06-2.06.94zm-11 1L8.5 8.5l.94-2.06 2.06-.94-2.06-.94L8.5 2.5l-.94 2.06-2.06.94zm10 10l.94 2.06.94-2.06 2.06-.94-2.06-.94-.94-2.06-.94 2.06-2.06.94z\"/><path d=\"M17.41 7.96l-1.37-1.37c-.4-.4-.92-.59-1.43-.59-.52 0-1.04.2-1.43.59L10.3 9.45l-7.72 7.72c-.78.78-.78 2.05 0 2.83L4 21.41c.39.39.9.59 1.41.59.51 0 1.02-.2 1.41-.59l7.78-7.78 2.81-2.81c.8-.78.8-2.07 0-2.86zM5.41 20L4 18.59l7.72-7.72 1.47 1.35L5.41 20z\"/>\n",
              "  </svg>\n",
              "      </button>\n",
              "      \n",
              "  <style>\n",
              "    .colab-df-container {\n",
              "      display:flex;\n",
              "      flex-wrap:wrap;\n",
              "      gap: 12px;\n",
              "    }\n",
              "\n",
              "    .colab-df-convert {\n",
              "      background-color: #E8F0FE;\n",
              "      border: none;\n",
              "      border-radius: 50%;\n",
              "      cursor: pointer;\n",
              "      display: none;\n",
              "      fill: #1967D2;\n",
              "      height: 32px;\n",
              "      padding: 0 0 0 0;\n",
              "      width: 32px;\n",
              "    }\n",
              "\n",
              "    .colab-df-convert:hover {\n",
              "      background-color: #E2EBFA;\n",
              "      box-shadow: 0px 1px 2px rgba(60, 64, 67, 0.3), 0px 1px 3px 1px rgba(60, 64, 67, 0.15);\n",
              "      fill: #174EA6;\n",
              "    }\n",
              "\n",
              "    [theme=dark] .colab-df-convert {\n",
              "      background-color: #3B4455;\n",
              "      fill: #D2E3FC;\n",
              "    }\n",
              "\n",
              "    [theme=dark] .colab-df-convert:hover {\n",
              "      background-color: #434B5C;\n",
              "      box-shadow: 0px 1px 3px 1px rgba(0, 0, 0, 0.15);\n",
              "      filter: drop-shadow(0px 1px 2px rgba(0, 0, 0, 0.3));\n",
              "      fill: #FFFFFF;\n",
              "    }\n",
              "  </style>\n",
              "\n",
              "      <script>\n",
              "        const buttonEl =\n",
              "          document.querySelector('#df-bd485e65-dc11-4940-830c-1e7df79c808b button.colab-df-convert');\n",
              "        buttonEl.style.display =\n",
              "          google.colab.kernel.accessAllowed ? 'block' : 'none';\n",
              "\n",
              "        async function convertToInteractive(key) {\n",
              "          const element = document.querySelector('#df-bd485e65-dc11-4940-830c-1e7df79c808b');\n",
              "          const dataTable =\n",
              "            await google.colab.kernel.invokeFunction('convertToInteractive',\n",
              "                                                     [key], {});\n",
              "          if (!dataTable) return;\n",
              "\n",
              "          const docLinkHtml = 'Like what you see? Visit the ' +\n",
              "            '<a target=\"_blank\" href=https://colab.research.google.com/notebooks/data_table.ipynb>data table notebook</a>'\n",
              "            + ' to learn more about interactive tables.';\n",
              "          element.innerHTML = '';\n",
              "          dataTable['output_type'] = 'display_data';\n",
              "          await google.colab.output.renderOutput(dataTable, element);\n",
              "          const docLink = document.createElement('div');\n",
              "          docLink.innerHTML = docLinkHtml;\n",
              "          element.appendChild(docLink);\n",
              "        }\n",
              "      </script>\n",
              "    </div>\n",
              "  </div>\n",
              "  "
            ]
          },
          "metadata": {},
          "execution_count": 40
        }
      ],
      "source": [
        "\n",
        "df2=df1.rename(columns={'Age':'Age_Group','Occupation':'Occupation_code','Stay_In_Current_City_Years':'Staying_in_city_since','Purchase':'Purchase_cost'})\n",
        "df2.head()"
      ]
    },
    {
      "cell_type": "markdown",
      "id": "c90094db",
      "metadata": {
        "papermill": {
          "duration": 0.01601,
          "end_time": "2022-11-20T09:53:17.497153",
          "exception": false,
          "start_time": "2022-11-20T09:53:17.481143",
          "status": "completed"
        },
        "tags": [],
        "id": "c90094db"
      },
      "source": [
        "In this codr we have change the columns cabels using rename as 'Age':'Age_Group','Occupation':'Occupation_code','Stay_In_Current_City_Years':'Staying_in_city_since','Purchase':'Purchase_cost'"
      ]
    },
    {
      "cell_type": "code",
      "execution_count": 41,
      "id": "6a34d801",
      "metadata": {
        "execution": {
          "iopub.execute_input": "2022-11-20T09:53:17.524621Z",
          "iopub.status.busy": "2022-11-20T09:53:17.523773Z",
          "iopub.status.idle": "2022-11-20T09:53:17.570244Z",
          "shell.execute_reply": "2022-11-20T09:53:17.568704Z"
        },
        "papermill": {
          "duration": 0.062292,
          "end_time": "2022-11-20T09:53:17.572175",
          "exception": false,
          "start_time": "2022-11-20T09:53:17.509883",
          "status": "completed"
        },
        "tags": [],
        "colab": {
          "base_uri": "https://localhost:8080/"
        },
        "id": "6a34d801",
        "outputId": "a972e7ad-efc4-4e2a-9a83-4ceba2830e17"
      },
      "outputs": [
        {
          "output_type": "stream",
          "name": "stdout",
          "text": [
            "<class 'pandas.core.frame.DataFrame'>\n",
            "Int64Index: 173741 entries, 1 to 568503\n",
            "Data columns (total 12 columns):\n",
            " #   Column                 Non-Null Count   Dtype  \n",
            "---  ------                 --------------   -----  \n",
            " 0   User_ID                173741 non-null  int64  \n",
            " 1   Product_ID             173741 non-null  object \n",
            " 2   Gender                 173741 non-null  object \n",
            " 3   Age_Group              173741 non-null  object \n",
            " 4   Occupation_code        173741 non-null  int64  \n",
            " 5   City_Category          173741 non-null  object \n",
            " 6   Staying_in_city_since  173741 non-null  object \n",
            " 7   Marital_Status         173741 non-null  float64\n",
            " 8   Product_Category_1     173741 non-null  float64\n",
            " 9   Product_Category_2     173741 non-null  int64  \n",
            " 10  Product_Category_3     173741 non-null  int64  \n",
            " 11  Purchase_cost          173741 non-null  float64\n",
            "dtypes: float64(3), int64(4), object(5)\n",
            "memory usage: 21.3+ MB\n"
          ]
        }
      ],
      "source": [
        "df2['Product_Category_3']=df2['Product_Category_3'].astype('int')\n",
        "df2['Product_Category_2']=df2['Product_Category_2'].astype('int')\n",
        "df2.info()"
      ]
    },
    {
      "cell_type": "markdown",
      "id": "3f8f3343",
      "metadata": {
        "papermill": {
          "duration": 0.011945,
          "end_time": "2022-11-20T09:53:17.596821",
          "exception": false,
          "start_time": "2022-11-20T09:53:17.584876",
          "status": "completed"
        },
        "tags": [],
        "id": "3f8f3343"
      },
      "source": [
        "Here we have changed datatypes of column 'Product_Category_2' & 'Product_Category_3'as integer"
      ]
    },
    {
      "cell_type": "markdown",
      "id": "18bededc",
      "metadata": {
        "papermill": {
          "duration": 0.011935,
          "end_time": "2022-11-20T09:53:17.621234",
          "exception": false,
          "start_time": "2022-11-20T09:53:17.609299",
          "status": "completed"
        },
        "tags": [],
        "id": "18bededc"
      },
      "source": [
        "# 1) Age vs Purchased"
      ]
    },
    {
      "cell_type": "code",
      "execution_count": 42,
      "id": "2cd67729",
      "metadata": {
        "execution": {
          "iopub.execute_input": "2022-11-20T09:53:17.647229Z",
          "iopub.status.busy": "2022-11-20T09:53:17.646874Z",
          "iopub.status.idle": "2022-11-20T09:53:17.863028Z",
          "shell.execute_reply": "2022-11-20T09:53:17.861662Z"
        },
        "papermill": {
          "duration": 0.23181,
          "end_time": "2022-11-20T09:53:17.865279",
          "exception": false,
          "start_time": "2022-11-20T09:53:17.633469",
          "status": "completed"
        },
        "tags": [],
        "colab": {
          "base_uri": "https://localhost:8080/",
          "height": 407
        },
        "id": "2cd67729",
        "outputId": "ba52a113-13ce-4ca6-ad2a-dcffb383c1f3"
      },
      "outputs": [
        {
          "output_type": "execute_result",
          "data": {
            "text/plain": [
              "<matplotlib.axes._subplots.AxesSubplot at 0x7faf584abaf0>"
            ]
          },
          "metadata": {},
          "execution_count": 42
        },
        {
          "output_type": "display_data",
          "data": {
            "text/plain": [
              "<Figure size 1080x432 with 1 Axes>"
            ],
            "image/png": "[encoded data removed]"
          },
          "metadata": {
            "needs_background": "light"
          }
        }
      ],
      "source": [
        "plt.figure(figsize=(15,6))\n",
        "df3= df2.head()\n",
        "# df2.sort_values('Purchase_cost',ascending=False)\n",
        "# gp=df3.sort_values('Purchase_cost').Age_Group\n",
        "sns.barplot(x='Age_Group',y='Purchase_cost', data=df3,order=df3.sort_values('Purchase_cost').Age_Group)"
      ]
    },
    {
      "cell_type": "markdown",
      "id": "0ce825b3",
      "metadata": {
        "papermill": {
          "duration": 0.012116,
          "end_time": "2022-11-20T09:53:17.890743",
          "exception": false,
          "start_time": "2022-11-20T09:53:17.878627",
          "status": "completed"
        },
        "tags": [],
        "id": "0ce825b3"
      },
      "source": [
        "From above graph we can see / conclude purchase cost of  Age_group 46-50 is highest than the others "
      ]
    },
    {
      "cell_type": "markdown",
      "id": "b30f45e9",
      "metadata": {
        "papermill": {
          "duration": 0.012182,
          "end_time": "2022-11-20T09:53:17.915453",
          "exception": false,
          "start_time": "2022-11-20T09:53:17.903271",
          "status": "completed"
        },
        "tags": [],
        "id": "b30f45e9"
      },
      "source": [
        "# 2) Occupation vs Purchased"
      ]
    },
    {
      "cell_type": "code",
      "execution_count": 43,
      "id": "edb9cde7",
      "metadata": {
        "execution": {
          "iopub.execute_input": "2022-11-20T09:53:17.942421Z",
          "iopub.status.busy": "2022-11-20T09:53:17.941821Z",
          "iopub.status.idle": "2022-11-20T09:53:18.205201Z",
          "shell.execute_reply": "2022-11-20T09:53:18.204491Z"
        },
        "papermill": {
          "duration": 0.279154,
          "end_time": "2022-11-20T09:53:18.206943",
          "exception": false,
          "start_time": "2022-11-20T09:53:17.927789",
          "status": "completed"
        },
        "tags": [],
        "colab": {
          "base_uri": "https://localhost:8080/",
          "height": 335
        },
        "id": "edb9cde7",
        "outputId": "91b44cc9-cf1f-49a8-d623-978218f0cbb7"
      },
      "outputs": [
        {
          "output_type": "execute_result",
          "data": {
            "text/plain": [
              "<matplotlib.axes._subplots.AxesSubplot at 0x7faf5841f0a0>"
            ]
          },
          "metadata": {},
          "execution_count": 43
        },
        {
          "output_type": "display_data",
          "data": {
            "text/plain": [
              "<Figure size 1440x360 with 1 Axes>"
            ],
            "image/png": "[encoded data removed]"
          },
          "metadata": {
            "needs_background": "light"
          }
        }
      ],
      "source": [
        "plt.figure(figsize=(20,5))\n",
        "df2.sort_values('Purchase_cost',ascending=True)\n",
        "sns.barplot(x='Occupation_code',y='Purchase_cost',data=df3,order=df3.sort_values('Purchase_cost').Occupation_code)\n",
        "# df2.head()"
      ]
    },
    {
      "cell_type": "markdown",
      "id": "b4e16d7c",
      "metadata": {
        "papermill": {
          "duration": 0.013065,
          "end_time": "2022-11-20T09:53:18.233573",
          "exception": false,
          "start_time": "2022-11-20T09:53:18.220508",
          "status": "completed"
        },
        "tags": [],
        "id": "b4e16d7c"
      },
      "source": [
        "From above graph we can see / conclude purchase cost of Occupation_code 7 is highest than the others"
      ]
    },
    {
      "cell_type": "markdown",
      "id": "7609c964",
      "metadata": {
        "papermill": {
          "duration": 0.013603,
          "end_time": "2022-11-20T09:53:18.260442",
          "exception": false,
          "start_time": "2022-11-20T09:53:18.246839",
          "status": "completed"
        },
        "tags": [],
        "id": "7609c964"
      },
      "source": [
        "# 3) Productcategory1 vs Purchased"
      ]
    },
    {
      "cell_type": "code",
      "execution_count": 44,
      "id": "2a01a12f",
      "metadata": {
        "execution": {
          "iopub.execute_input": "2022-11-20T09:53:18.289518Z",
          "iopub.status.busy": "2022-11-20T09:53:18.288863Z",
          "iopub.status.idle": "2022-11-20T09:53:18.518657Z",
          "shell.execute_reply": "2022-11-20T09:53:18.517504Z"
        },
        "papermill": {
          "duration": 0.246608,
          "end_time": "2022-11-20T09:53:18.520931",
          "exception": false,
          "start_time": "2022-11-20T09:53:18.274323",
          "status": "completed"
        },
        "tags": [],
        "colab": {
          "base_uri": "https://localhost:8080/",
          "height": 335
        },
        "id": "2a01a12f",
        "outputId": "012c729c-0fbe-4f39-834d-939b63b9b28b"
      },
      "outputs": [
        {
          "output_type": "execute_result",
          "data": {
            "text/plain": [
              "<matplotlib.axes._subplots.AxesSubplot at 0x7faf58408220>"
            ]
          },
          "metadata": {},
          "execution_count": 44
        },
        {
          "output_type": "display_data",
          "data": {
            "text/plain": [
              "<Figure size 1440x360 with 1 Axes>"
            ],
            "image/png": "[encoded data removed]"
          },
          "metadata": {
            "needs_background": "light"
          }
        }
      ],
      "source": [
        "plt.figure(figsize=(20,5))\n",
        "sns.barplot(x='Product_Category_1',y='Purchase_cost',data=df3,order=df3.sort_values('Purchase_cost').Product_Category_1)"
      ]
    },
    {
      "cell_type": "markdown",
      "id": "29f2219b",
      "metadata": {
        "papermill": {
          "duration": 0.013478,
          "end_time": "2022-11-20T09:53:18.548146",
          "exception": false,
          "start_time": "2022-11-20T09:53:18.534668",
          "status": "completed"
        },
        "tags": [],
        "id": "29f2219b"
      },
      "source": [
        "From the above graph we can see / conclude that purchased cost of priduct_category_1 of columns 1 has highest than the others\n"
      ]
    },
    {
      "cell_type": "markdown",
      "id": "31fc1953",
      "metadata": {
        "papermill": {
          "duration": 0.013539,
          "end_time": "2022-11-20T09:53:18.575421",
          "exception": false,
          "start_time": "2022-11-20T09:53:18.561882",
          "status": "completed"
        },
        "tags": [],
        "id": "31fc1953"
      },
      "source": [
        "# 4) Productcategory2 vs Purchased"
      ]
    },
    {
      "cell_type": "code",
      "execution_count": 45,
      "id": "ea315cca",
      "metadata": {
        "execution": {
          "iopub.execute_input": "2022-11-20T09:53:18.604807Z",
          "iopub.status.busy": "2022-11-20T09:53:18.604201Z",
          "iopub.status.idle": "2022-11-20T09:53:19.417551Z",
          "shell.execute_reply": "2022-11-20T09:53:19.416541Z"
        },
        "papermill": {
          "duration": 0.830264,
          "end_time": "2022-11-20T09:53:19.419519",
          "exception": false,
          "start_time": "2022-11-20T09:53:18.589255",
          "status": "completed"
        },
        "tags": [],
        "colab": {
          "base_uri": "https://localhost:8080/",
          "height": 337
        },
        "id": "ea315cca",
        "outputId": "0d119e1d-9035-47d1-86ee-dbd1dd3d5d24"
      },
      "outputs": [
        {
          "output_type": "execute_result",
          "data": {
            "text/plain": [
              "<matplotlib.axes._subplots.AxesSubplot at 0x7faf58c7d2e0>"
            ]
          },
          "metadata": {},
          "execution_count": 45
        },
        {
          "output_type": "display_data",
          "data": {
            "text/plain": [
              "<Figure size 1440x360 with 1 Axes>"
            ],
            "image/png": "[encoded data removed]"
          },
          "metadata": {
            "needs_background": "light"
          }
        }
      ],
      "source": [
        "plt.figure(figsize=(20,5))\n",
        "df2=df2.sort_values('Purchase_cost')\n",
        "sns.barplot(x='Product_Category_2',y='Purchase_cost',data=df2.head(25),order=df2.head(25).sort_values('Purchase_cost').Product_Category_2)"
      ]
    },
    {
      "cell_type": "markdown",
      "id": "6f08b3e0",
      "metadata": {
        "papermill": {
          "duration": 0.014079,
          "end_time": "2022-11-20T09:53:19.447981",
          "exception": false,
          "start_time": "2022-11-20T09:53:19.433902",
          "status": "completed"
        },
        "tags": [],
        "id": "6f08b3e0"
      },
      "source": [
        "From the above graph we can see / conclude that purchased cost of priduct_category_2 of colum 2 has highest than the others\n"
      ]
    },
    {
      "cell_type": "markdown",
      "id": "0844ed28",
      "metadata": {
        "papermill": {
          "duration": 0.0134,
          "end_time": "2022-11-20T09:53:19.475723",
          "exception": false,
          "start_time": "2022-11-20T09:53:19.462323",
          "status": "completed"
        },
        "tags": [],
        "id": "0844ed28"
      },
      "source": [
        "# 5) Productcategory3 vs Purchased"
      ]
    },
    {
      "cell_type": "code",
      "execution_count": 46,
      "id": "188fd3a4",
      "metadata": {
        "execution": {
          "iopub.execute_input": "2022-11-20T09:53:19.504675Z",
          "iopub.status.busy": "2022-11-20T09:53:19.504341Z",
          "iopub.status.idle": "2022-11-20T09:53:19.717787Z",
          "shell.execute_reply": "2022-11-20T09:53:19.716354Z"
        },
        "papermill": {
          "duration": 0.231004,
          "end_time": "2022-11-20T09:53:19.720278",
          "exception": false,
          "start_time": "2022-11-20T09:53:19.489274",
          "status": "completed"
        },
        "tags": [],
        "colab": {
          "base_uri": "https://localhost:8080/",
          "height": 335
        },
        "id": "188fd3a4",
        "outputId": "36df85a3-e5dc-4082-d6e0-bb459ac7acdf"
      },
      "outputs": [
        {
          "output_type": "execute_result",
          "data": {
            "text/plain": [
              "<matplotlib.axes._subplots.AxesSubplot at 0x7faf583f6250>"
            ]
          },
          "metadata": {},
          "execution_count": 46
        },
        {
          "output_type": "display_data",
          "data": {
            "text/plain": [
              "<Figure size 1440x360 with 1 Axes>"
            ],
            "image/png": "[encoded data removed]"
          },
          "metadata": {
            "needs_background": "light"
          }
        }
      ],
      "source": [
        "plt.figure(figsize=(20,5))\n",
        "sns.barplot(x='Product_Category_3',y='Purchase_cost',data=df3,order=df3.sort_values('Purchase_cost',ascending=True).Product_Category_3)"
      ]
    },
    {
      "cell_type": "markdown",
      "id": "020fd824",
      "metadata": {
        "papermill": {
          "duration": 0.013803,
          "end_time": "2022-11-20T09:53:19.748426",
          "exception": false,
          "start_time": "2022-11-20T09:53:19.734623",
          "status": "completed"
        },
        "tags": [],
        "id": "020fd824"
      },
      "source": [
        "From the above graph we can see / conclude that purchase cost of priduct_category_3-17 has highest than the others"
      ]
    },
    {
      "cell_type": "markdown",
      "id": "6adb54de",
      "metadata": {
        "papermill": {
          "duration": 0.013735,
          "end_time": "2022-11-20T09:53:19.776307",
          "exception": false,
          "start_time": "2022-11-20T09:53:19.762572",
          "status": "completed"
        },
        "tags": [],
        "id": "6adb54de"
      },
      "source": [
        "# 6) City category pie chart\n"
      ]
    },
    {
      "cell_type": "code",
      "execution_count": 47,
      "id": "17df4494",
      "metadata": {
        "execution": {
          "iopub.execute_input": "2022-11-20T09:53:19.805607Z",
          "iopub.status.busy": "2022-11-20T09:53:19.805220Z",
          "iopub.status.idle": "2022-11-20T09:53:19.904761Z",
          "shell.execute_reply": "2022-11-20T09:53:19.903796Z"
        },
        "papermill": {
          "duration": 0.116939,
          "end_time": "2022-11-20T09:53:19.907121",
          "exception": false,
          "start_time": "2022-11-20T09:53:19.790182",
          "status": "completed"
        },
        "tags": [],
        "colab": {
          "base_uri": "https://localhost:8080/",
          "height": 248
        },
        "id": "17df4494",
        "outputId": "237ff98e-a3bd-466b-ca91-0cd050b43539"
      },
      "outputs": [
        {
          "output_type": "display_data",
          "data": {
            "text/plain": [
              "<Figure size 432x288 with 1 Axes>"
            ],
            "image/png": "[encoded data removed]"
          },
          "metadata": {}
        }
      ],
      "source": [
        "import matplotlib.pyplot as plt\n",
        "import seaborn as sns\n",
        "\n",
        "#define data\n",
        "data =df2['City_Category'].value_counts()\n",
        "labels =df2['City_Category'].unique()\n",
        "\n",
        "#define Seaborn color palette to use\n",
        "colors = sns.color_palette('pastel')[0:5]\n",
        "\n",
        "#create pie chart\n",
        "pie=plt.pie(data, labels = labels, colors = colors, autopct='%.0f%%')\n",
        "# plt.show()"
      ]
    },
    {
      "cell_type": "markdown",
      "id": "acd2a340",
      "metadata": {
        "papermill": {
          "duration": 0.018408,
          "end_time": "2022-11-20T09:53:19.944288",
          "exception": false,
          "start_time": "2022-11-20T09:53:19.925880",
          "status": "completed"
        },
        "tags": [],
        "id": "acd2a340"
      },
      "source": [
        "From the above pie chart we can see/ conclude the city_category A has 42% contribution of total purchase, city_category B has 34% contribution of total purchase And city_category C has 25% contribution of total purchase.  "
      ]
    },
    {
      "cell_type": "markdown",
      "id": "2f99ee6e",
      "metadata": {
        "papermill": {
          "duration": 0.018157,
          "end_time": "2022-11-20T09:53:19.980927",
          "exception": false,
          "start_time": "2022-11-20T09:53:19.962770",
          "status": "completed"
        },
        "tags": [],
        "id": "2f99ee6e"
      },
      "source": [
        "Bar Plot - Purchase Cost"
      ]
    },
    {
      "cell_type": "code",
      "execution_count": 48,
      "id": "cc84d782",
      "metadata": {
        "execution": {
          "iopub.execute_input": "2022-11-20T09:53:20.016006Z",
          "iopub.status.busy": "2022-11-20T09:53:20.015044Z",
          "iopub.status.idle": "2022-11-20T09:53:20.747160Z",
          "shell.execute_reply": "2022-11-20T09:53:20.746107Z"
        },
        "papermill": {
          "duration": 0.750032,
          "end_time": "2022-11-20T09:53:20.749233",
          "exception": false,
          "start_time": "2022-11-20T09:53:19.999201",
          "status": "completed"
        },
        "tags": [],
        "colab": {
          "base_uri": "https://localhost:8080/",
          "height": 337
        },
        "id": "cc84d782",
        "outputId": "ef947ca8-f4a4-4d51-f780-e63ad0749426"
      },
      "outputs": [
        {
          "output_type": "execute_result",
          "data": {
            "text/plain": [
              "<matplotlib.axes._subplots.AxesSubplot at 0x7faf58ce5df0>"
            ]
          },
          "metadata": {},
          "execution_count": 48
        },
        {
          "output_type": "display_data",
          "data": {
            "text/plain": [
              "<Figure size 1440x360 with 1 Axes>"
            ],
            "image/png": "[encoded data removed]"
          },
          "metadata": {
            "needs_background": "light"
          }
        }
      ],
      "source": [
        "plt.figure(figsize=(20,5))\n",
        "df2=df2.sort_values('Purchase_cost')\n",
        "sns.barplot(x='Product_Category_3',y='Purchase_cost',data=df2.head(20),order=df2.head(20).sort_values('Purchase_cost').Product_Category_3)"
      ]
    },
    {
      "cell_type": "code",
      "execution_count": 48,
      "id": "ed01368e",
      "metadata": {
        "papermill": {
          "duration": 0.014165,
          "end_time": "2022-11-20T09:53:20.778018",
          "exception": false,
          "start_time": "2022-11-20T09:53:20.763853",
          "status": "completed"
        },
        "tags": [],
        "id": "ed01368e"
      },
      "outputs": [],
      "source": []
    }
  ],
  "metadata": {
    "kernelspec": {
      "display_name": "Python 3",
      "language": "python",
      "name": "python3"
    },
    "language_info": {
      "codemirror_mode": {
        "name": "ipython",
        "version": 3
      },
      "file_extension": ".py",
      "mimetype": "text/x-python",
      "name": "python",
      "nbconvert_exporter": "python",
      "pygments_lexer": "ipython3",
      "version": "3.7.12"
    },
    "papermill": {
      "default_parameters": {},
      "duration": 15.368759,
      "end_time": "2022-11-20T09:53:21.513993",
      "environment_variables": {},
      "exception": null,
      "input_path": "__notebook__.ipynb",
      "output_path": "__notebook__.ipynb",
      "parameters": {},
      "start_time": "2022-11-20T09:53:06.145234",
      "version": "2.3.4"
    },
    "colab": {
      "provenance": [],
      "collapsed_sections": [
        "b30f45e9",
        "7609c964",
        "31fc1953",
        "0844ed28",
        "6adb54de",
        "2f99ee6e"
      ]
    }
  },
  "nbformat": 4,
  "nbformat_minor": 5
}